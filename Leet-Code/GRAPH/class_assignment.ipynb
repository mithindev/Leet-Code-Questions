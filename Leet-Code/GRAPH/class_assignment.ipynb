{
 "cells": [
  {
   "cell_type": "markdown",
   "metadata": {},
   "source": [
    "Q"
   ]
  },
  {
   "cell_type": "code",
   "execution_count": 1,
   "metadata": {},
   "outputs": [
    {
     "name": "stdout",
     "output_type": "stream",
     "text": [
      "CSR Creation Time: 0.2849 seconds\n",
      "CSR Saving Time: 0.4146 seconds\n",
      "CSR Loading Time: 0.0473 seconds\n",
      "CSR Retrieving Time: 0.1001 seconds\n"
     ]
    }
   ],
   "source": [
    "import numpy as np\n",
    "from scipy.sparse import random, lil_matrix, csr_matrix, bsr_matrix, save_npz, load_npz\n",
    "import time\n",
    "\n",
    "# Define matrix dimensions\n",
    "matrix_size = 5000\n",
    "density = 0.01  # Density of non-zero elements in the sparse matrix\n",
    "\n",
    "# Step 1: Generate random data\n",
    "random_data = np.random.rand(matrix_size, matrix_size)\n",
    "random_data[random_data > density] = 0  # Apply density to create sparse matrix\n",
    "\n",
    "# Step 2: Create a sparse matrix and measure the time to store the matrix\n",
    "start_time = time.time()\n",
    "csr_sparse_matrix = csr_matrix(random_data)\n",
    "csr_creation_time = time.time() - start_time\n",
    "\n",
    "# Step 3: Save the matrix to an npz file and measure the saving time\n",
    "start_time = time.time()\n",
    "save_npz('csr_sparse_matrix.npz', csr_sparse_matrix)\n",
    "csr_saving_time = time.time() - start_time\n",
    "\n",
    "# Step 4: Load the matrix from the file and measure the time to load the matrix\n",
    "start_time = time.time()\n",
    "loaded_csr_sparse_matrix = load_npz('csr_sparse_matrix.npz')\n",
    "csr_loading_time = time.time() - start_time\n",
    "\n",
    "# Step 5: Retrieve the matrix and measure the time to retrieve the matrix (convert to dense)\n",
    "start_time = time.time()\n",
    "dense_matrix = loaded_csr_sparse_matrix.toarray()\n",
    "csr_retrieving_time = time.time() - start_time\n",
    "\n",
    "# Print the timings\n",
    "print(f\"CSR Creation Time: {csr_creation_time:.4f} seconds\")\n",
    "print(f\"CSR Saving Time: {csr_saving_time:.4f} seconds\")\n",
    "print(f\"CSR Loading Time: {csr_loading_time:.4f} seconds\")\n",
    "print(f\"CSR Retrieving Time: {csr_retrieving_time:.4f} seconds\")"
   ]
  }
 ],
 "metadata": {
  "kernelspec": {
   "display_name": "Python 3",
   "language": "python",
   "name": "python3"
  },
  "language_info": {
   "codemirror_mode": {
    "name": "ipython",
    "version": 3
   },
   "file_extension": ".py",
   "mimetype": "text/x-python",
   "name": "python",
   "nbconvert_exporter": "python",
   "pygments_lexer": "ipython3",
   "version": "3.11.3"
  }
 },
 "nbformat": 4,
 "nbformat_minor": 2
}
