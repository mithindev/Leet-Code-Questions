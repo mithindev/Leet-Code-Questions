{
 "cells": [
  {
   "cell_type": "code",
   "execution_count": 1,
   "metadata": {},
   "outputs": [
    {
     "name": "stdout",
     "output_type": "stream",
     "text": [
      "False\n"
     ]
    }
   ],
   "source": [
    "def backspaceCompare(s: str, t: str) -> bool:\n",
    "        s1 = []\n",
    "        s2 = []\n",
    "\n",
    "        for i in s:\n",
    "            if i == '#' and s1:\n",
    "                s1.pop()\n",
    "            else:\n",
    "                s1.append(i)\n",
    "        \n",
    "        for i in t:\n",
    "            if i == '#' and s2:\n",
    "                s2.pop()\n",
    "            else:\n",
    "                s2.append(i)\n",
    "        \n",
    "        return s1 == s2\n",
    "\n",
    "print(backspaceCompare(\"y#fo##f\", \"y#f#o##f\"))"
   ]
  },
  {
   "cell_type": "code",
   "execution_count": null,
   "metadata": {},
   "outputs": [],
   "source": [
    "class Solution:\n",
    "    def removeDuplicates(self, s: str, k: int) -> str:\n",
    "        s1 = [s[0]]\n",
    "        s2 = [1]\n",
    "\n",
    "        for i in s[1:]:\n",
    "            if s1 and s1[-1] == i:\n",
    "                ptr = s2[-1] + 1\n",
    "                s2.append(ptr)\n",
    "                s1.append(i)\n",
    "\n",
    "            else:\n",
    "                ptr = 1            \n",
    "                s2.append(ptr)\n",
    "                s1.append(i)\n",
    "            \n",
    "            if s2[-1] == 3:\n",
    "                for j in range (3):\n",
    "                    s1.pop()\n",
    "                    s2.pop()\n",
    "        \n",
    "        ans = \"\"\n",
    "        for i in s1:\n",
    "            ans += i\n",
    "        \n",
    "        return ans\n",
    "\n",
    "\n",
    "        "
   ]
  }
 ],
 "metadata": {
  "kernelspec": {
   "display_name": "Python 3",
   "language": "python",
   "name": "python3"
  },
  "language_info": {
   "codemirror_mode": {
    "name": "ipython",
    "version": 3
   },
   "file_extension": ".py",
   "mimetype": "text/x-python",
   "name": "python",
   "nbconvert_exporter": "python",
   "pygments_lexer": "ipython3",
   "version": "3.11.6"
  }
 },
 "nbformat": 4,
 "nbformat_minor": 2
}
