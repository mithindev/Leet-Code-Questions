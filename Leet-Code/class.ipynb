{
 "cells": [
  {
   "cell_type": "code",
   "execution_count": 1,
   "metadata": {},
   "outputs": [
    {
     "name": "stdout",
     "output_type": "stream",
     "text": [
      "    Name  Age  Marks\n",
      "0    Joe   20   85.1\n",
      "1    Sam   30    NaN\n",
      "2  Harry   22   91.0\n"
     ]
    }
   ],
   "source": [
    "import pandas as pd\n",
    "\n",
    "data = {'Name': ['Joe', 'Sam', 'Harry'],\n",
    "        'Age': [20, 30, 22],\n",
    "        'Marks': [85.10, None, 91]}\n",
    "\n",
    "df = pd.DataFrame(data)\n",
    "print(df)"
   ]
  },
  {
   "cell_type": "code",
   "execution_count": 2,
   "metadata": {},
   "outputs": [
    {
     "name": "stdout",
     "output_type": "stream",
     "text": [
      "      Name  Age         City\n",
      "0    Alice   25     New York\n",
      "1      Bob   30  Los Angeles\n",
      "2  Charlie   22      Chicago\n",
      "3    David   35      Houston\n",
      "Name,Age,City\n",
      "Alice,25,New York\n",
      "Bob,30,Los Angeles\n",
      "Charlie,22,Chicago\n",
      "David,35,Houston\n"
     ]
    }
   ],
   "source": [
    "import pandas as pd\n",
    "\n",
    "csv_file = \"data.csv\"\n",
    "df_csv = pd.read_csv(csv_file)\n",
    "\n",
    "print(df_csv)\n",
    "\n",
    "txt_file = \"data.txt\"\n",
    "with open(txt_file, \"r\") as file:\n",
    "    txt_content = file.read()\n",
    "\n",
    "print(txt_content)\n",
    "\n",
    "temp = \"temp.csv\"\n",
    "df_csv.to_csv(temp, index=False)\n"
   ]
  },
  {
   "cell_type": "markdown",
   "metadata": {},
   "source": [
    "# B - 1"
   ]
  },
  {
   "cell_type": "code",
   "execution_count": 4,
   "metadata": {},
   "outputs": [
    {
     "name": "stdout",
     "output_type": "stream",
     "text": [
      "Data from CSV File:\n",
      "         Name   Age\n",
      "0        Giri   154\n",
      "1      Sharan    30\n",
      "2  Sharan - w    22\n",
      "3    Giri - w  3500\n",
      "\n",
      "Data from TXT File:\n",
      "         Name   Age\n",
      "0        Giri   154\n",
      "1      Sharan    30\n",
      "2  Sharan - w    22\n",
      "3    Giri - w  3500\n",
      "\n",
      "CSV file 'new_data.csv' saved with the updated data.\n",
      "TXT file 'new_data.txt' saved with the updated data.\n"
     ]
    }
   ],
   "source": [
    "import pandas as pd\n",
    "\n",
    "data = {'Name': ['Giri', 'Sharan', 'Sharan1', 'Giri1'],\n",
    "        'Age': [154, 30, 22, 3500]}\n",
    "\n",
    "df = pd.DataFrame(data)\n",
    "\n",
    "cfname = 'data1.csv'\n",
    "df.to_csv(cfname, index=False)\n",
    "\n",
    "tfname = 'data.txt'\n",
    "df.to_csv(tfname, index=False, sep='\\t')\n",
    "\n",
    "read_csv_df = pd.read_csv(cfname)\n",
    "\n",
    "read_txt_df = pd.read_csv(tfname, sep='\\t')\n",
    "\n",
    "print(\"Data from CSV File:\")\n",
    "print(read_csv_df)\n",
    "\n",
    "print(\"\\nData from TXT File:\")\n",
    "print(read_txt_df)\n",
    "\n",
    "new_csv_file_name = 'new_data.csv'\n",
    "new_txt_file_name = 'new_data.txt'\n",
    "\n",
    "read_csv_df.to_csv(new_csv_file_name, index=False)\n",
    "read_txt_df.to_csv(new_txt_file_name, index=False, sep='\\t')\n"
   ]
  },
  {
   "cell_type": "markdown",
   "metadata": {},
   "source": [
    "# Drop a col if NaN"
   ]
  },
  {
   "cell_type": "code",
   "execution_count": 14,
   "metadata": {},
   "outputs": [
    {
     "name": "stdout",
     "output_type": "stream",
     "text": [
      "     Name  Age  Marks\n",
      "0     Joe   20    NaN\n",
      "1     Sam   30    NaN\n",
      "3  Mithin   18  100.0\n"
     ]
    }
   ],
   "source": [
    "import pandas as pd\n",
    "\n",
    "data = {'Name': ['Joe', 'Sam', 'Harry'],\n",
    "        'Age': [20, 30, 22],\n",
    "        'Marks': [85.10, None, 91]\n",
    "        }\n",
    "\n",
    "df = pd.DataFrame(data)\n",
    "\n",
    "df = df.dropna(axis=1, how='any')\n",
    "\n",
    "new_row = {'Name': 'Mithin', 'Age': 18, 'Marks': 100}\n",
    "df = pd.concat([df, pd.DataFrame(new_row, index=[0])], ignore_index=True)\n",
    "\n",
    "index_to_drop = 2\n",
    "df = df.drop(index_to_drop)\n",
    "\n",
    "# df = df.dropna(axis=1, how='any')\n",
    "\n",
    "\n",
    "print(df)\n"
   ]
  }
 ],
 "metadata": {
  "kernelspec": {
   "display_name": "base",
   "language": "python",
   "name": "python3"
  },
  "language_info": {
   "codemirror_mode": {
    "name": "ipython",
    "version": 3
   },
   "file_extension": ".py",
   "mimetype": "text/x-python",
   "name": "python",
   "nbconvert_exporter": "python",
   "pygments_lexer": "ipython3",
   "version": "3.11.3"
  }
 },
 "nbformat": 4,
 "nbformat_minor": 2
}
